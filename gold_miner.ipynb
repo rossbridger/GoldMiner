{
 "cells": [
  {
   "cell_type": "code",
   "execution_count": null,
   "metadata": {},
   "outputs": [],
   "source": [
    "!pip install MetaTrader5\n",
    "!pip install ta"
   ]
  },
  {
   "cell_type": "code",
   "execution_count": null,
   "metadata": {},
   "outputs": [],
   "source": [
    "# connect to MetaTrader 5\n",
    "\n",
    "import pandas as pd\n",
    "import tensorflow as tf\n",
    "import os\n",
    "try:\n",
    "    import MetaTrader5 as mt5\n",
    "    if not mt5.initialize():\n",
    "        print(\"initialize() failed\")\n",
    "        mt5.shutdown()\n",
    "        gold_data = pd.read_csv(\"gold_data.csv\")\n",
    "    else:\n",
    "        # request connection status and parameters\n",
    "        print(mt5.terminal_info())\n",
    "        # get data on MetaTrader 5 version\n",
    "        print(mt5.version())\n",
    "        gold_ticks = mt5.copy_rates_from_pos(\"GOLD\", mt5.TIMEFRAME_M5, 0, 100000)\n",
    "        # shut down connection to MetaTrader 5\n",
    "        mt5.shutdown()\n",
    "        gold_data = pd.DataFrame(gold_ticks)\n",
    "        gold_data.to_csv(\"gold_data.csv\")\n",
    "except Exception as e:\n",
    "    print(e)\n",
    "    if os.path.exists(\"gold_data.csv\"):\n",
    "        gold_data = pd.read_csv(\"gold_data.csv\")\n",
    "    else:\n",
    "        print(\"gold_data.csv not found, no way to retrieve the data. Exiting...\")\n",
    "        exit()"
   ]
  }
 ],
 "metadata": {
  "kernelspec": {
   "display_name": "Python 3",
   "language": "python",
   "name": "python3"
  },
  "language_info": {
   "codemirror_mode": {
    "name": "ipython",
    "version": 3
   },
   "file_extension": ".py",
   "mimetype": "text/x-python",
   "name": "python",
   "nbconvert_exporter": "python",
   "pygments_lexer": "ipython3",
   "version": "3.12.6"
  }
 },
 "nbformat": 4,
 "nbformat_minor": 2
}
